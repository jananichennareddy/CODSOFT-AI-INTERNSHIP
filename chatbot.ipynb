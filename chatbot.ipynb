{
  "nbformat": 4,
  "nbformat_minor": 0,
  "metadata": {
    "colab": {
      "provenance": [],
      "authorship_tag": "ABX9TyPZSa+bNyYsa2dBQxbEMfhC",
      "include_colab_link": true
    },
    "kernelspec": {
      "name": "python3",
      "display_name": "Python 3"
    },
    "language_info": {
      "name": "python"
    }
  },
  "cells": [
    {
      "cell_type": "markdown",
      "metadata": {
        "id": "view-in-github",
        "colab_type": "text"
      },
      "source": [
        "<a href=\"https://colab.research.google.com/github/jananichennareddy/CODSOFT-AI-INTERNSHIP/blob/main/chatbot.ipynb\" target=\"_parent\"><img src=\"https://colab.research.google.com/assets/colab-badge.svg\" alt=\"Open In Colab\"/></a>"
      ]
    },
    {
      "cell_type": "code",
      "execution_count": 1,
      "metadata": {
        "colab": {
          "base_uri": "https://localhost:8080/"
        },
        "id": "uNaiQa5OTQyf",
        "outputId": "b887cf2f-9be6-4941-e7cd-9cafe01c9899"
      },
      "outputs": [
        {
          "output_type": "stream",
          "name": "stdout",
          "text": [
            "RuleBot: Hi! I am RuleBot. Type 'bye' to exit.\n",
            "You: hi\n",
            "RuleBot: Hello! How can I help you today?\n",
            "You: how are you\n",
            "RuleBot: I'm just a program, but I'm doing great! How about you?\n",
            "You: your name\n",
            "RuleBot: I’m RuleBot, your friendly chatbot.\n",
            "You: Goodbye!\n",
            "RuleBot: Goodbye! Have a great day!\n"
          ]
        }
      ],
      "source": [
        "# Simple Rule-Based Chatbot\n",
        "\n",
        "def chatbot_response(user_input):\n",
        "    user_input = user_input.lower()\n",
        "\n",
        "    if \"hello\" in user_input or \"hi\" in user_input:\n",
        "        return \"Hello! How can I help you today?\"\n",
        "    elif \"how are you\" in user_input:\n",
        "        return \"I'm just a program, but I'm doing great! How about you?\"\n",
        "    elif \"your name\" in user_input:\n",
        "        return \"I’m RuleBot, your friendly chatbot.\"\n",
        "    elif \"bye\" in user_input or \"goodbye\" in user_input:\n",
        "        return \"Goodbye! Have a great day!\"\n",
        "    else:\n",
        "        return \"I'm not sure I understand. Can you rephrase?\"\n",
        "\n",
        "# Chat loop\n",
        "print(\"RuleBot: Hi! I am RuleBot. Type 'bye' to exit.\")\n",
        "while True:\n",
        "    user_message = input(\"You: \")\n",
        "    response = chatbot_response(user_message)\n",
        "    print(\"RuleBot:\", response)\n",
        "    if \"bye\" in user_message.lower():\n",
        "        break"
      ]
    }
  ]
}